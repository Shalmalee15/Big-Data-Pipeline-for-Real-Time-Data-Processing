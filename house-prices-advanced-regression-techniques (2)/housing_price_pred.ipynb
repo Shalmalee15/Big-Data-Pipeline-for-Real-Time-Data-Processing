{
 "cells": [
  {
   "cell_type": "code",
   "execution_count": null,
   "id": "73b80667",
   "metadata": {},
   "outputs": [],
   "source": [
    "import numpy as np\n",
    "import pandas as pd \n",
    "from sklearn.preprocessing import StandardScaler\n",
    "from sklearn.decomposition import PCA\n",
    "from sklearn.cluster import KMeans\n",
    "from housing_functions import scale_data, calc_pca, calc_loadings, calc_kmeans\n",
    "import matplotlib.pyplot as plt\n",
    "import seaborn as sns\n"
   ]
  },
  {
   "cell_type": "code",
   "execution_count": null,
   "id": "401528a8",
   "metadata": {},
   "outputs": [],
   "source": [
    "train = pd.read_csv(\"train.csv\")\n",
    "test = pd.read_csv(\"test.csv\")"
   ]
  },
  {
   "cell_type": "markdown",
   "id": "09cae070",
   "metadata": {},
   "source": [
    "# Basic info"
   ]
  },
  {
   "cell_type": "code",
   "execution_count": null,
   "id": "9c4059a6",
   "metadata": {},
   "outputs": [],
   "source": [
    "train.describe()"
   ]
  },
  {
   "cell_type": "code",
   "execution_count": null,
   "id": "61366d7b",
   "metadata": {},
   "outputs": [],
   "source": [
    "train.drop_duplicates()"
   ]
  },
  {
   "cell_type": "markdown",
   "id": "20e9c512",
   "metadata": {},
   "source": [
    "# Separate numeric variable from categorical variable"
   ]
  },
  {
   "cell_type": "code",
   "execution_count": null,
   "id": "91b73692",
   "metadata": {},
   "outputs": [],
   "source": [
    "numeric_data = train.select_dtypes(include=[np.number])\n",
    "categorical_data = train.select_dtypes(exclude=[np.number])\n",
    "\n",
    "print(\"numeric variables:\",numeric_data.shape[1],\"categorical variables:\", categorical_data.shape[1])"
   ]
  },
  {
   "cell_type": "code",
   "execution_count": null,
   "id": "429828c7",
   "metadata": {},
   "outputs": [],
   "source": [
    "scaled_data, scaled_data_df = scale_data(numeric_data)\n",
    "np.any(np.isnan(scaled_data_df))\n",
    "scaled_data_df = scaled_data_df.dropna()\n",
    "numeric_data = numeric_data.dropna()"
   ]
  },
  {
   "cell_type": "markdown",
   "id": "b0c40608",
   "metadata": {},
   "source": [
    "# PC Analysisshape"
   ]
  },
  {
   "cell_type": "code",
   "execution_count": null,
   "id": "d8205915",
   "metadata": {},
   "outputs": [],
   "source": [
    "pca = calc_pca(scaled_data_df, 10)"
   ]
  },
  {
   "cell_type": "code",
   "execution_count": null,
   "id": "88fe6cd6",
   "metadata": {},
   "outputs": [],
   "source": [
    "reduced10 = pca.transform(scaled_data_df)\n",
    "PCnames = ['PC'+str(i+1) for i in range(pca.n_components_)]\n",
    "df_reduced = pd.DataFrame(reduced10, index=scaled_data_df.index, columns=PCnames)"
   ]
  },
  {
   "cell_type": "code",
   "execution_count": null,
   "id": "5fd95ced",
   "metadata": {},
   "outputs": [],
   "source": [
    "pca_loadings = calc_loadings(pca, numeric_data)"
   ]
  },
  {
   "cell_type": "code",
   "execution_count": null,
   "id": "2299142e",
   "metadata": {},
   "outputs": [],
   "source": [
    "loading_components = pca.components_.T * np.sqrt(pca.explained_variance_)\n",
    "loading_matrix = pd.DataFrame(loading_components, columns=pca_loadings.columns, index=pca_loadings.index)"
   ]
  },
  {
   "cell_type": "markdown",
   "id": "bc5af483",
   "metadata": {},
   "source": [
    "# KMeans analysis"
   ]
  },
  {
   "cell_type": "code",
   "execution_count": null,
   "id": "cb39e67d",
   "metadata": {},
   "outputs": [],
   "source": [
    "model, kmeans_res = calc_kmeans(reduced10, n_clust=6, df_scaled=scaled_data_df)"
   ]
  },
  {
   "cell_type": "code",
   "execution_count": null,
   "id": "3ae68757",
   "metadata": {},
   "outputs": [],
   "source": [
    "result = pd.concat([numeric_data,df_reduced, kmeans_res], axis=1)"
   ]
  },
  {
   "cell_type": "code",
   "execution_count": null,
   "id": "149307c2-08e1-40c6-b2e6-afd010992d9b",
   "metadata": {},
   "outputs": [],
   "source": [
    "color_list= ['red', 'blue', 'green', 'yellow', 'cyan', 'magenta', 'gray', 'black']\n",
    "palette = color_list[:6]\n",
    "\n",
    "plt.figure(figsize=(10, 10))\n",
    "sns.scatterplot(result['Id'], result['SalePrice'], hue=result.cluster, palette=palette)"
   ]
  },
  {
   "cell_type": "code",
   "execution_count": null,
   "id": "ea1d1765-4650-450d-8e71-bca8ecbae492",
   "metadata": {},
   "outputs": [],
   "source": [
    "plt.figure(figsize=(10, 10))\n",
    "sns.scatterplot(result['YearBuilt'], result['SalePrice'], hue=result.cluster, palette=palette)"
   ]
  },
  {
   "cell_type": "code",
   "execution_count": null,
   "id": "84782ce2-6154-44d0-b36f-db163ed2e29f",
   "metadata": {},
   "outputs": [],
   "source": [
    "plt.figure(figsize=(10, 10))\n",
    "sns.scatterplot(result['OverallQual'], result['SalePrice'], hue=result.cluster, palette=palette)"
   ]
  },
  {
   "cell_type": "markdown",
   "id": "4f36733c-f617-4a92-8e59-9d02c3c6c15e",
   "metadata": {},
   "source": [
    "# Prediction analysis"
   ]
  },
  {
   "cell_type": "code",
   "execution_count": null,
   "id": "fca3fdd7-019a-41d6-a58f-59b155ea4202",
   "metadata": {},
   "outputs": [],
   "source": []
  }
 ],
 "metadata": {
  "kernelspec": {
   "display_name": "Python 3 (ipykernel)",
   "language": "python",
   "name": "python3"
  },
  "language_info": {
   "codemirror_mode": {
    "name": "ipython",
    "version": 3
   },
   "file_extension": ".py",
   "mimetype": "text/x-python",
   "name": "python",
   "nbconvert_exporter": "python",
   "pygments_lexer": "ipython3",
   "version": "3.8.13"
  }
 },
 "nbformat": 4,
 "nbformat_minor": 5
}
